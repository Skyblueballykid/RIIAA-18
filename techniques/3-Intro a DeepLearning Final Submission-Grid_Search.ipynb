{
 "cells": [
  {
   "cell_type": "markdown",
   "metadata": {
    "toc": true
   },
   "source": [
    "<h1>Table of Contents<span class=\"tocSkip\"></span></h1>\n",
    "<div class=\"toc\"><ul class=\"toc-item\"><li><span><a href=\"#Cargamos-librerias\" data-toc-modified-id=\"Cargamos-librerias-1\">Cargamos librerias</a></span><ul class=\"toc-item\"><li><span><a href=\"#metricas-de-evaluacion-(sigmas)-+-funciones-de-utilidad\" data-toc-modified-id=\"metricas-de-evaluacion-(sigmas)-+-funciones-de-utilidad-1.1\">metricas de evaluacion (sigmas) + funciones de utilidad</a></span></li><li><span><a href=\"#Datos-de-entrenamiento!\" data-toc-modified-id=\"Datos-de-entrenamiento!-1.2\">Datos de entrenamiento!</a></span></li><li><span><a href=\"#preprocesamiento-para-X-y-Y\" data-toc-modified-id=\"preprocesamiento-para-X-y-Y-1.3\">preprocesamiento para X y Y</a></span></li></ul></li><li><span><a href=\"#Tensorflow\" data-toc-modified-id=\"Tensorflow-2\">Tensorflow</a></span></li><li><span><a href=\"#Keras\" data-toc-modified-id=\"Keras-3\">Keras</a></span><ul class=\"toc-item\"><li><span><a href=\"#Red-sencillita\" data-toc-modified-id=\"Red-sencillita-3.1\">Red sencillita</a></span></li><li><span><a href=\"#Calidad-de-vida:-liveloss!\" data-toc-modified-id=\"Calidad-de-vida:-liveloss!-3.2\">Calidad de vida: liveloss!</a></span></li><li><span><a href=\"#Calidad-de-vida:-agregando-un-tensorboard\" data-toc-modified-id=\"Calidad-de-vida:-agregando-un-tensorboard-3.3\">Calidad de vida: agregando un tensorboard</a></span></li><li><span><a href=\"#Trucos:-Regularizadores-de-redes\" data-toc-modified-id=\"Trucos:-Regularizadores-de-redes-3.4\">Trucos: Regularizadores de redes</a></span></li><li><span><a href=\"#Actividad:-Crea-una-red-profunda\" data-toc-modified-id=\"Actividad:-Crea-una-red-profunda-3.5\">Actividad: Crea una red profunda</a></span></li><li><span><a href=\"#trucos:-Dropout\" data-toc-modified-id=\"trucos:-Dropout-3.6\">trucos: Dropout</a></span></li><li><span><a href=\"#Trucos:-BatchNormalization-y-Activacion!\" data-toc-modified-id=\"Trucos:-BatchNormalization-y-Activacion!-3.7\">Trucos: BatchNormalization y Activacion!</a></span></li><li><span><a href=\"#Keras-Functional\" data-toc-modified-id=\"Keras-Functional-3.8\">Keras Functional</a></span></li><li><span><a href=\"#Truco:-Skip-connections\" data-toc-modified-id=\"Truco:-Skip-connections-3.9\">Truco: Skip connections</a></span></li><li><span><a href=\"#Optimizador\" data-toc-modified-id=\"Optimizador-3.10\">Optimizador</a></span></li><li><span><a href=\"#Controlando-el-learning-rate\" data-toc-modified-id=\"Controlando-el-learning-rate-3.11\">Controlando el learning rate</a></span></li><li><span><a href=\"#Actividad:-Crea-una-red-poderosa!\" data-toc-modified-id=\"Actividad:-Crea-una-red-poderosa!-3.12\">Actividad: Crea una red poderosa!</a></span></li></ul></li><li><span><a href=\"#Pytorch\" data-toc-modified-id=\"Pytorch-4\">Pytorch</a></span></li></ul></div>"
   ]
  },
  {
   "cell_type": "markdown",
   "metadata": {},
   "source": [
    "![](extra/atlas.png)\n",
    "# Cargamos librerias"
   ]
  },
  {
   "cell_type": "code",
   "execution_count": 5,
   "metadata": {
    "ExecuteTime": {
     "end_time": "2018-08-24T08:17:47.151173Z",
     "start_time": "2018-08-24T08:17:46.814786Z"
    }
   },
   "outputs": [],
   "source": [
    "%matplotlib inline\n",
    "%config InlineBackend.figure_format='retina'\n",
    "import matplotlib\n",
    "import matplotlib.pyplot as plt"
   ]
  },
  {
   "cell_type": "code",
   "execution_count": 6,
   "metadata": {
    "ExecuteTime": {
     "end_time": "2018-08-24T08:17:47.725328Z",
     "start_time": "2018-08-24T08:17:47.152976Z"
    }
   },
   "outputs": [],
   "source": [
    "import numpy as np\n",
    "import scipy as sc\n",
    "import pandas as pd\n",
    "import sklearn\n",
    "import matplotlib.pyplot as plt\n",
    "import seaborn as sns\n",
    "import os\n",
    "from IPython.display import display\n",
    "import sys"
   ]
  },
  {
   "cell_type": "markdown",
   "metadata": {},
   "source": [
    "## metricas de evaluacion (sigmas) + funciones de utilidad\n",
    "\n",
    "![http://i.imgur.com/Hflz2lG.jpg](http://i.imgur.com/Hflz2lG.jpg)"
   ]
  },
  {
   "cell_type": "code",
   "execution_count": 7,
   "metadata": {
    "ExecuteTime": {
     "end_time": "2018-08-24T08:34:42.166891Z",
     "start_time": "2018-08-24T08:34:42.157723Z"
    }
   },
   "outputs": [],
   "source": [
    "from sklearn.metrics import roc_curve, auc, roc_auc_score\n",
    "\n",
    "    \n",
    "def AMSScore(s,b): \n",
    "    return np.sqrt (2.*( (s + b + 10.)*np.log(1.+s/(b+10.))-s))\n",
    "\n",
    "def eval_model(Y_true_train,Y_pred_train,w_train,Y_true_test,Y_pred_test,w_test):\n",
    "    ratio =  float(len(X_train)) /float(len(X_test))\n",
    "    TruePositive_train = w_train*(Y_true_train==1.0)*(1.0/ratio)\n",
    "    TrueNegative_train = w_train*(Y_true_train==0.0)*(1.0/ratio)\n",
    "    TruePositive_valid = w_test*(Y_true_test==1.0)*(1.0/(1-ratio))\n",
    "    TrueNegative_valid = w_test*(Y_true_test==0.0)*(1.0/(1-ratio))\n",
    "    s_train = sum ( TruePositive_train*(Y_pred_train==1.0) )\n",
    "    b_train = sum ( TrueNegative_train*(Y_pred_train==1.0) )\n",
    "    s_test = sum ( TruePositive_valid*(Y_pred_test==1.0) )\n",
    "    b_test = sum ( TrueNegative_valid*(Y_pred_test==1.0) )\n",
    "    score_train = AMSScore(s_train,b_train)\n",
    "    score_test = AMSScore(s_test,b_test)\n",
    "    print('--- Resultados --')\n",
    "    print('- AUC train: {:.3f} '.format(roc_auc_score(Y_train,Y_train_pred)))\n",
    "    print('- AUC test : {:.3f} '.format(roc_auc_score(Y_test,Y_test_pred)))\n",
    "    print('- AMS train: {:.3f} sigma'.format(score_train))\n",
    "    print('- AMS test : {:.3f} sigma'.format(score_test))\n",
    "    return score_train, score_test\n",
    "\n",
    "def plot_roc(clf,Y_test,Y_test_prob):\n",
    "    fpr, tpr, thresholds = roc_curve(Y_test, Y_test_prob)\n",
    "    roc_auc = auc(fpr, tpr)\n",
    "    plt.plot(fpr, tpr, lw=1, alpha=0.3, label=str(clf.__class__.__name__))\n",
    "    plt.plot(np.linspace(0,1,100),np.linspace(0,1,100), lw=2, alpha=0.3, label='Suerte')\n",
    "    plt.legend(loc='lower right')\n",
    "    plt.xlim([0,1])\n",
    "    plt.ylim([0,1])\n",
    "    plt.tight_layout()\n",
    "    return\n",
    "\n",
    "def keras_graph(model):\n",
    "    from IPython.display import SVG\n",
    "    from keras.utils.vis_utils import model_to_dot\n",
    "    return SVG(model_to_dot(model).create(prog='dot', format='svg'))"
   ]
  },
  {
   "cell_type": "markdown",
   "metadata": {},
   "source": [
    "## Datos de entrenamiento!\n",
    "\n",
    "Quieres saber mas? Visita"
   ]
  },
  {
   "cell_type": "code",
   "execution_count": 8,
   "metadata": {
    "ExecuteTime": {
     "end_time": "2018-08-24T08:17:49.192476Z",
     "start_time": "2018-08-24T08:17:48.223762Z"
    },
    "scrolled": false
   },
   "outputs": [
    {
     "name": "stdout",
     "output_type": "stream",
     "text": [
      "(250000, 33)\n"
     ]
    },
    {
     "data": {
      "text/html": [
       "<div>\n",
       "<style scoped>\n",
       "    .dataframe tbody tr th:only-of-type {\n",
       "        vertical-align: middle;\n",
       "    }\n",
       "\n",
       "    .dataframe tbody tr th {\n",
       "        vertical-align: top;\n",
       "    }\n",
       "\n",
       "    .dataframe thead th {\n",
       "        text-align: right;\n",
       "    }\n",
       "</style>\n",
       "<table border=\"1\" class=\"dataframe\">\n",
       "  <thead>\n",
       "    <tr style=\"text-align: right;\">\n",
       "      <th></th>\n",
       "      <th>EventId</th>\n",
       "      <th>DER_mass_MMC</th>\n",
       "      <th>DER_mass_transverse_met_lep</th>\n",
       "      <th>DER_mass_vis</th>\n",
       "      <th>DER_pt_h</th>\n",
       "      <th>DER_deltaeta_jet_jet</th>\n",
       "      <th>DER_mass_jet_jet</th>\n",
       "      <th>DER_prodeta_jet_jet</th>\n",
       "      <th>DER_deltar_tau_lep</th>\n",
       "      <th>DER_pt_tot</th>\n",
       "      <th>...</th>\n",
       "      <th>PRI_jet_num</th>\n",
       "      <th>PRI_jet_leading_pt</th>\n",
       "      <th>PRI_jet_leading_eta</th>\n",
       "      <th>PRI_jet_leading_phi</th>\n",
       "      <th>PRI_jet_subleading_pt</th>\n",
       "      <th>PRI_jet_subleading_eta</th>\n",
       "      <th>PRI_jet_subleading_phi</th>\n",
       "      <th>PRI_jet_all_pt</th>\n",
       "      <th>Weight</th>\n",
       "      <th>Label</th>\n",
       "    </tr>\n",
       "  </thead>\n",
       "  <tbody>\n",
       "    <tr>\n",
       "      <th>0</th>\n",
       "      <td>100000</td>\n",
       "      <td>138.47</td>\n",
       "      <td>51.655</td>\n",
       "      <td>97.827</td>\n",
       "      <td>27.98</td>\n",
       "      <td>0.91</td>\n",
       "      <td>124.711</td>\n",
       "      <td>2.666</td>\n",
       "      <td>3.064</td>\n",
       "      <td>41.928</td>\n",
       "      <td>...</td>\n",
       "      <td>2</td>\n",
       "      <td>67.435</td>\n",
       "      <td>2.15</td>\n",
       "      <td>0.444</td>\n",
       "      <td>46.062</td>\n",
       "      <td>1.24</td>\n",
       "      <td>-2.475</td>\n",
       "      <td>113.497</td>\n",
       "      <td>0.002653</td>\n",
       "      <td>s</td>\n",
       "    </tr>\n",
       "  </tbody>\n",
       "</table>\n",
       "<p>1 rows × 33 columns</p>\n",
       "</div>"
      ],
      "text/plain": [
       "   EventId  DER_mass_MMC  DER_mass_transverse_met_lep  DER_mass_vis  DER_pt_h  \\\n",
       "0   100000        138.47                       51.655        97.827     27.98   \n",
       "\n",
       "   DER_deltaeta_jet_jet  DER_mass_jet_jet  DER_prodeta_jet_jet  \\\n",
       "0                  0.91           124.711                2.666   \n",
       "\n",
       "   DER_deltar_tau_lep  DER_pt_tot  ...    PRI_jet_num  PRI_jet_leading_pt  \\\n",
       "0               3.064      41.928  ...              2              67.435   \n",
       "\n",
       "   PRI_jet_leading_eta  PRI_jet_leading_phi  PRI_jet_subleading_pt  \\\n",
       "0                 2.15                0.444                 46.062   \n",
       "\n",
       "   PRI_jet_subleading_eta  PRI_jet_subleading_phi  PRI_jet_all_pt    Weight  \\\n",
       "0                    1.24                  -2.475         113.497  0.002653   \n",
       "\n",
       "   Label  \n",
       "0      s  \n",
       "\n",
       "[1 rows x 33 columns]"
      ]
     },
     "execution_count": 8,
     "metadata": {},
     "output_type": "execute_result"
    }
   ],
   "source": [
    "df=pd.read_csv('C:\\\\Users\\\\tkalnik\\\\PycharmProjects\\\\RIIAA_Escuela18-master\\\\datos\\\\training.csv')\n",
    "print(df.shape)\n",
    "df.head(1)"
   ]
  },
  {
   "cell_type": "markdown",
   "metadata": {},
   "source": [
    "## preprocesamiento para X y Y"
   ]
  },
  {
   "cell_type": "code",
   "execution_count": 9,
   "metadata": {
    "ExecuteTime": {
     "end_time": "2018-08-24T08:17:49.327953Z",
     "start_time": "2018-08-24T08:17:49.193912Z"
    }
   },
   "outputs": [],
   "source": [
    "from sklearn import preprocessing  # to normalize and scale the data\n",
    "Y = df['Label'].replace(to_replace=['s','b'],value=[1,0]).values\n",
    "weights = df['Weight'].values\n",
    "X = df.drop(['EventId','Label','Weight'],axis=1).values\n",
    "\n",
    "# Did not normalize or scale in final model because AMS results were worse\n",
    "normalized_X = preprocessing.normalize(X)\n",
    "scaled_X = preprocessing.scale(X)\n",
    "scaled_normalized_X = preprocessing.scale(normalized_X)"
   ]
  },
  {
   "cell_type": "code",
   "execution_count": 10,
   "metadata": {
    "ExecuteTime": {
     "end_time": "2018-08-24T08:17:49.531551Z",
     "start_time": "2018-08-24T08:17:49.381349Z"
    }
   },
   "outputs": [
    {
     "name": "stdout",
     "output_type": "stream",
     "text": [
      "(75000, 30) (75000,) (75000,)\n",
      "(175000, 30) (175000,) (175000,)\n"
     ]
    },
    {
     "name": "stderr",
     "output_type": "stream",
     "text": [
      "C:\\Users\\tkalnik\\AppData\\Local\\Continuum\\anaconda3\\lib\\site-packages\\sklearn\\model_selection\\_split.py:2026: FutureWarning: From version 0.21, test_size will always complement train_size unless both are specified.\n",
      "  FutureWarning)\n"
     ]
    }
   ],
   "source": [
    "from sklearn.model_selection import train_test_split\n",
    "X_train,X_test,Y_train,Y_test,w_train,w_test = train_test_split(X,Y,weights,train_size=0.3, random_state=42)\n",
    "print(X_train.shape,Y_train.shape,w_train.shape)\n",
    "print(X_test.shape,Y_test.shape,w_test.shape)"
   ]
  },
  {
   "cell_type": "markdown",
   "metadata": {},
   "source": [
    "# Tensorflow\n",
    "[![](extra/tf_logo.jpg)](https://www.tensorflow.org/)"
   ]
  },
  {
   "cell_type": "code",
   "execution_count": 11,
   "metadata": {
    "ExecuteTime": {
     "end_time": "2018-08-24T07:38:39.497500Z",
     "start_time": "2018-08-24T07:38:38.473420Z"
    }
   },
   "outputs": [],
   "source": [
    "import tensorflow as tf"
   ]
  },
  {
   "cell_type": "markdown",
   "metadata": {},
   "source": [
    "# Keras\n",
    "\n",
    "[![](extra/keras-logo.png)](https://keras.io/)"
   ]
  },
  {
   "cell_type": "code",
   "execution_count": 12,
   "metadata": {
    "ExecuteTime": {
     "end_time": "2018-08-24T08:18:17.391905Z",
     "start_time": "2018-08-24T08:18:16.014973Z"
    }
   },
   "outputs": [],
   "source": [
    "from keras.models import Sequential\n",
    "from keras.layers import Dense, Activation\n",
    "from keras import backend as K\n",
    "import keras"
   ]
  },
  {
   "cell_type": "markdown",
   "metadata": {},
   "source": [
    "## Red sencillita"
   ]
  },
  {
   "cell_type": "code",
   "execution_count": 55,
   "metadata": {
    "ExecuteTime": {
     "end_time": "2018-08-24T08:18:55.181558Z",
     "start_time": "2018-08-24T08:18:44.314653Z"
    },
    "scrolled": true
   },
   "outputs": [
    {
     "name": "stdout",
     "output_type": "stream",
     "text": [
      "_________________________________________________________________\n",
      "Layer (type)                 Output Shape              Param #   \n",
      "=================================================================\n",
      "dense_1 (Dense)              (None, 100)               3100      \n",
      "_________________________________________________________________\n",
      "dense_2 (Dense)              (None, 100)               10100     \n",
      "_________________________________________________________________\n",
      "dense_3 (Dense)              (None, 100)               10100     \n",
      "_________________________________________________________________\n",
      "dense_4 (Dense)              (None, 100)               10100     \n",
      "_________________________________________________________________\n",
      "dense_5 (Dense)              (None, 100)               10100     \n",
      "_________________________________________________________________\n",
      "dense_6 (Dense)              (None, 100)               10100     \n",
      "_________________________________________________________________\n",
      "dense_7 (Dense)              (None, 100)               10100     \n",
      "_________________________________________________________________\n",
      "dropout_1 (Dropout)          (None, 100)               0         \n",
      "_________________________________________________________________\n",
      "dense_8 (Dense)              (None, 1)                 101       \n",
      "=================================================================\n",
      "Total params: 63,801\n",
      "Trainable params: 63,801\n",
      "Non-trainable params: 0\n",
      "_________________________________________________________________\n",
      "None\n",
      "Epoch 1/170\n",
      "75000/75000 [==============================] - 12s 160us/step - loss: 0.5060 - acc: 0.7521\n",
      "Epoch 2/170\n",
      "75000/75000 [==============================] - 11s 149us/step - loss: 0.4433 - acc: 0.7991\n",
      "Epoch 3/170\n",
      "75000/75000 [==============================] - 10s 131us/step - loss: 0.4292 - acc: 0.8056\n",
      "Epoch 4/170\n",
      "75000/75000 [==============================] - 10s 138us/step - loss: 0.4222 - acc: 0.8082\n",
      "Epoch 5/170\n",
      "75000/75000 [==============================] - 12s 157us/step - loss: 0.4166 - acc: 0.8105\n",
      "Epoch 6/170\n",
      "75000/75000 [==============================] - 11s 149us/step - loss: 0.4137 - acc: 0.8122\n",
      "Epoch 7/170\n",
      "75000/75000 [==============================] - 11s 148us/step - loss: 0.4131 - acc: 0.8109\n",
      "Epoch 8/170\n",
      "75000/75000 [==============================] - 11s 149us/step - loss: 0.4094 - acc: 0.8125\n",
      "Epoch 9/170\n",
      "75000/75000 [==============================] - 11s 150us/step - loss: 0.4075 - acc: 0.8135\n",
      "Epoch 10/170\n",
      "75000/75000 [==============================] - 11s 153us/step - loss: 0.4065 - acc: 0.8156\n",
      "Epoch 11/170\n",
      "75000/75000 [==============================] - 11s 152us/step - loss: 0.4041 - acc: 0.8159\n",
      "Epoch 12/170\n",
      "75000/75000 [==============================] - 11s 151us/step - loss: 0.4039 - acc: 0.8149\n",
      "Epoch 13/170\n",
      "75000/75000 [==============================] - 12s 160us/step - loss: 0.4028 - acc: 0.8171\n",
      "Epoch 14/170\n",
      "75000/75000 [==============================] - 10s 137us/step - loss: 0.4004 - acc: 0.8172\n",
      "Epoch 15/170\n",
      "75000/75000 [==============================] - 12s 157us/step - loss: 0.3995 - acc: 0.81871s - loss:\n",
      "Epoch 16/170\n",
      "75000/75000 [==============================] - 11s 143us/step - loss: 0.4008 - acc: 0.8179\n",
      "Epoch 17/170\n",
      "75000/75000 [==============================] - 11s 147us/step - loss: 0.3983 - acc: 0.8185\n",
      "Epoch 18/170\n",
      "75000/75000 [==============================] - 10s 133us/step - loss: 0.3979 - acc: 0.81950s - loss: 0.3987 - acc: 0.819 - ETA: 0s - loss: 0.3986 - acc: 0\n",
      "Epoch 19/170\n",
      "75000/75000 [==============================] - 12s 156us/step - loss: 0.3969 - acc: 0.8196\n",
      "Epoch 20/170\n",
      "75000/75000 [==============================] - 11s 153us/step - loss: 0.3958 - acc: 0.8213\n",
      "Epoch 21/170\n",
      "75000/75000 [==============================] - 12s 153us/step - loss: 0.3947 - acc: 0.8217\n",
      "Epoch 22/170\n",
      "75000/75000 [==============================] - 12s 154us/step - loss: 0.3949 - acc: 0.8210\n",
      "Epoch 23/170\n",
      "75000/75000 [==============================] - 13s 168us/step - loss: 0.3937 - acc: 0.8219\n",
      "Epoch 24/170\n",
      "75000/75000 [==============================] - 12s 164us/step - loss: 0.3927 - acc: 0.8218\n",
      "Epoch 25/170\n",
      "75000/75000 [==============================] - 12s 157us/step - loss: 0.3939 - acc: 0.8216\n",
      "Epoch 26/170\n",
      "75000/75000 [==============================] - 11s 145us/step - loss: 0.3927 - acc: 0.8211\n",
      "Epoch 27/170\n",
      "75000/75000 [==============================] - 8s 108us/step - loss: 0.3915 - acc: 0.8233\n",
      "Epoch 28/170\n",
      "75000/75000 [==============================] - 8s 108us/step - loss: 0.3900 - acc: 0.8235\n",
      "Epoch 29/170\n",
      "75000/75000 [==============================] - 8s 108us/step - loss: 0.3909 - acc: 0.8232\n",
      "Epoch 30/170\n",
      "75000/75000 [==============================] - 8s 108us/step - loss: 0.3915 - acc: 0.8210\n",
      "Epoch 31/170\n",
      "75000/75000 [==============================] - 8s 108us/step - loss: 0.3899 - acc: 0.8237\n",
      "Epoch 32/170\n",
      "75000/75000 [==============================] - 8s 107us/step - loss: 0.3889 - acc: 0.8241\n",
      "Epoch 33/170\n",
      "75000/75000 [==============================] - 8s 108us/step - loss: 0.3897 - acc: 0.8240\n",
      "Epoch 34/170\n",
      "75000/75000 [==============================] - 8s 109us/step - loss: 0.3887 - acc: 0.8251\n",
      "Epoch 35/170\n",
      "75000/75000 [==============================] - 8s 109us/step - loss: 0.3878 - acc: 0.8240\n",
      "Epoch 36/170\n",
      "75000/75000 [==============================] - 8s 109us/step - loss: 0.3872 - acc: 0.8247\n",
      "Epoch 37/170\n",
      "75000/75000 [==============================] - 8s 108us/step - loss: 0.3873 - acc: 0.8250\n",
      "Epoch 38/170\n",
      "75000/75000 [==============================] - 8s 109us/step - loss: 0.3880 - acc: 0.8248\n",
      "Epoch 39/170\n",
      "75000/75000 [==============================] - 8s 109us/step - loss: 0.3868 - acc: 0.8240\n",
      "Epoch 40/170\n",
      "75000/75000 [==============================] - 9s 115us/step - loss: 0.3867 - acc: 0.8241\n",
      "Epoch 41/170\n",
      "75000/75000 [==============================] - 10s 139us/step - loss: 0.3857 - acc: 0.8252\n",
      "Epoch 42/170\n",
      "75000/75000 [==============================] - 12s 161us/step - loss: 0.3865 - acc: 0.8262\n",
      "Epoch 43/170\n",
      "75000/75000 [==============================] - 7s 91us/step - loss: 0.3859 - acc: 0.8251: \n",
      "Epoch 44/170\n",
      "75000/75000 [==============================] - 7s 91us/step - loss: 0.3846 - acc: 0.8248\n",
      "Epoch 45/170\n",
      "75000/75000 [==============================] - 7s 93us/step - loss: 0.3850 - acc: 0.8273\n",
      "Epoch 46/170\n",
      "75000/75000 [==============================] - 7s 99us/step - loss: 0.3850 - acc: 0.8259\n",
      "Epoch 47/170\n",
      "75000/75000 [==============================] - 7s 93us/step - loss: 0.3848 - acc: 0.8263\n",
      "Epoch 48/170\n",
      "75000/75000 [==============================] - 7s 89us/step - loss: 0.3837 - acc: 0.8261\n",
      "Epoch 49/170\n",
      "75000/75000 [==============================] - 7s 90us/step - loss: 0.3837 - acc: 0.8273\n",
      "Epoch 50/170\n",
      "75000/75000 [==============================] - 7s 92us/step - loss: 0.3845 - acc: 0.8263\n",
      "Epoch 51/170\n",
      "75000/75000 [==============================] - 7s 96us/step - loss: 0.3905 - acc: 0.8228\n",
      "Epoch 52/170\n",
      "75000/75000 [==============================] - 7s 89us/step - loss: 0.3874 - acc: 0.8239\n",
      "Epoch 53/170\n",
      "75000/75000 [==============================] - 7s 93us/step - loss: 0.3850 - acc: 0.8251\n",
      "Epoch 54/170\n",
      "75000/75000 [==============================] - 7s 89us/step - loss: 0.3821 - acc: 0.8263\n",
      "Epoch 55/170\n",
      "75000/75000 [==============================] - 7s 87us/step - loss: 0.3834 - acc: 0.8264\n",
      "Epoch 56/170\n",
      "75000/75000 [==============================] - 7s 92us/step - loss: 0.3834 - acc: 0.8259\n",
      "Epoch 57/170\n",
      "75000/75000 [==============================] - 7s 98us/step - loss: 0.3851 - acc: 0.8265\n",
      "Epoch 58/170\n",
      "75000/75000 [==============================] - 7s 89us/step - loss: 0.3832 - acc: 0.8266\n",
      "Epoch 59/170\n",
      "75000/75000 [==============================] - 7s 89us/step - loss: 0.3815 - acc: 0.8277\n",
      "Epoch 60/170\n",
      "75000/75000 [==============================] - 7s 89us/step - loss: 0.3808 - acc: 0.8283\n",
      "Epoch 61/170\n",
      "75000/75000 [==============================] - 7s 95us/step - loss: 0.3827 - acc: 0.8264\n",
      "Epoch 62/170\n",
      "75000/75000 [==============================] - 7s 97us/step - loss: 0.3834 - acc: 0.8267\n",
      "Epoch 63/170\n",
      "75000/75000 [==============================] - 7s 89us/step - loss: 0.3813 - acc: 0.8257\n",
      "Epoch 64/170\n",
      "75000/75000 [==============================] - 7s 89us/step - loss: 0.3822 - acc: 0.8266\n",
      "Epoch 65/170\n"
     ]
    },
    {
     "name": "stdout",
     "output_type": "stream",
     "text": [
      "75000/75000 [==============================] - 7s 89us/step - loss: 0.3802 - acc: 0.8266\n",
      "Epoch 66/170\n",
      "75000/75000 [==============================] - 7s 98us/step - loss: 0.3809 - acc: 0.8271\n",
      "Epoch 67/170\n",
      "75000/75000 [==============================] - 7s 95us/step - loss: 0.3812 - acc: 0.8276\n",
      "Epoch 68/170\n",
      "75000/75000 [==============================] - 8s 108us/step - loss: 0.3819 - acc: 0.8275\n",
      "Epoch 69/170\n",
      "75000/75000 [==============================] - 7s 91us/step - loss: 0.3833 - acc: 0.8261\n",
      "Epoch 70/170\n",
      "75000/75000 [==============================] - 7s 94us/step - loss: 0.3825 - acc: 0.8285\n",
      "Epoch 71/170\n",
      "75000/75000 [==============================] - 8s 109us/step - loss: 0.3832 - acc: 0.8263\n",
      "Epoch 72/170\n",
      " 6496/75000 [=>............................] - ETA: 7s - loss: 0.3885 - acc: 0.8196  - ETA: 31s - loss: 0.3"
     ]
    },
    {
     "ename": "KeyboardInterrupt",
     "evalue": "",
     "output_type": "error",
     "traceback": [
      "\u001b[1;31m-------------------------------------------------------\u001b[0m",
      "\u001b[1;31mKeyboardInterrupt\u001b[0m     Traceback (most recent call last)",
      "\u001b[1;32m<ipython-input-55-c840525c14bb>\u001b[0m in \u001b[0;36m<module>\u001b[1;34m()\u001b[0m\n\u001b[0;32m     16\u001b[0m \u001b[0mmodel\u001b[0m\u001b[1;33m.\u001b[0m\u001b[0mcompile\u001b[0m\u001b[1;33m(\u001b[0m\u001b[0mloss\u001b[0m\u001b[1;33m=\u001b[0m\u001b[1;34m'binary_crossentropy'\u001b[0m\u001b[1;33m,\u001b[0m \u001b[0moptimizer\u001b[0m\u001b[1;33m=\u001b[0m\u001b[1;34m\"Adam\"\u001b[0m\u001b[1;33m,\u001b[0m \u001b[0mmetrics\u001b[0m\u001b[1;33m=\u001b[0m\u001b[1;33m[\u001b[0m\u001b[1;34m'accuracy'\u001b[0m\u001b[1;33m]\u001b[0m\u001b[1;33m)\u001b[0m\u001b[1;33m\u001b[0m\u001b[0m\n\u001b[0;32m     17\u001b[0m \u001b[0mprint\u001b[0m\u001b[1;33m(\u001b[0m\u001b[0mmodel\u001b[0m\u001b[1;33m.\u001b[0m\u001b[0msummary\u001b[0m\u001b[1;33m(\u001b[0m\u001b[1;33m)\u001b[0m\u001b[1;33m)\u001b[0m\u001b[1;33m\u001b[0m\u001b[0m\n\u001b[1;32m---> 18\u001b[1;33m \u001b[0mmodel\u001b[0m\u001b[1;33m.\u001b[0m\u001b[0mfit\u001b[0m\u001b[1;33m(\u001b[0m\u001b[0mX_train\u001b[0m\u001b[1;33m,\u001b[0m \u001b[0mY_train\u001b[0m\u001b[1;33m,\u001b[0m \u001b[0mepochs\u001b[0m\u001b[1;33m=\u001b[0m\u001b[1;36m170\u001b[0m\u001b[1;33m,\u001b[0m \u001b[0mbatch_size\u001b[0m\u001b[1;33m=\u001b[0m\u001b[1;36m28\u001b[0m\u001b[1;33m,\u001b[0m \u001b[0mcallbacks\u001b[0m\u001b[1;33m=\u001b[0m\u001b[1;33m[\u001b[0m\u001b[0mtb_call\u001b[0m\u001b[1;33m]\u001b[0m\u001b[1;33m)\u001b[0m\u001b[1;33m\u001b[0m\u001b[0m\n\u001b[0m",
      "\u001b[1;32m~\\AppData\\Local\\Continuum\\anaconda3\\lib\\site-packages\\keras\\engine\\training.py\u001b[0m in \u001b[0;36mfit\u001b[1;34m(self, x, y, batch_size, epochs, verbose, callbacks, validation_split, validation_data, shuffle, class_weight, sample_weight, initial_epoch, steps_per_epoch, validation_steps, **kwargs)\u001b[0m\n\u001b[0;32m   1035\u001b[0m                                         \u001b[0minitial_epoch\u001b[0m\u001b[1;33m=\u001b[0m\u001b[0minitial_epoch\u001b[0m\u001b[1;33m,\u001b[0m\u001b[1;33m\u001b[0m\u001b[0m\n\u001b[0;32m   1036\u001b[0m                                         \u001b[0msteps_per_epoch\u001b[0m\u001b[1;33m=\u001b[0m\u001b[0msteps_per_epoch\u001b[0m\u001b[1;33m,\u001b[0m\u001b[1;33m\u001b[0m\u001b[0m\n\u001b[1;32m-> 1037\u001b[1;33m                                         validation_steps=validation_steps)\n\u001b[0m\u001b[0;32m   1038\u001b[0m \u001b[1;33m\u001b[0m\u001b[0m\n\u001b[0;32m   1039\u001b[0m     def evaluate(self, x=None, y=None,\n",
      "\u001b[1;32m~\\AppData\\Local\\Continuum\\anaconda3\\lib\\site-packages\\keras\\engine\\training_arrays.py\u001b[0m in \u001b[0;36mfit_loop\u001b[1;34m(model, f, ins, out_labels, batch_size, epochs, verbose, callbacks, val_f, val_ins, shuffle, callback_metrics, initial_epoch, steps_per_epoch, validation_steps)\u001b[0m\n\u001b[0;32m    197\u001b[0m                     \u001b[0mins_batch\u001b[0m\u001b[1;33m[\u001b[0m\u001b[0mi\u001b[0m\u001b[1;33m]\u001b[0m \u001b[1;33m=\u001b[0m \u001b[0mins_batch\u001b[0m\u001b[1;33m[\u001b[0m\u001b[0mi\u001b[0m\u001b[1;33m]\u001b[0m\u001b[1;33m.\u001b[0m\u001b[0mtoarray\u001b[0m\u001b[1;33m(\u001b[0m\u001b[1;33m)\u001b[0m\u001b[1;33m\u001b[0m\u001b[0m\n\u001b[0;32m    198\u001b[0m \u001b[1;33m\u001b[0m\u001b[0m\n\u001b[1;32m--> 199\u001b[1;33m                 \u001b[0mouts\u001b[0m \u001b[1;33m=\u001b[0m \u001b[0mf\u001b[0m\u001b[1;33m(\u001b[0m\u001b[0mins_batch\u001b[0m\u001b[1;33m)\u001b[0m\u001b[1;33m\u001b[0m\u001b[0m\n\u001b[0m\u001b[0;32m    200\u001b[0m                 \u001b[0mouts\u001b[0m \u001b[1;33m=\u001b[0m \u001b[0mto_list\u001b[0m\u001b[1;33m(\u001b[0m\u001b[0mouts\u001b[0m\u001b[1;33m)\u001b[0m\u001b[1;33m\u001b[0m\u001b[0m\n\u001b[0;32m    201\u001b[0m                 \u001b[1;32mfor\u001b[0m \u001b[0ml\u001b[0m\u001b[1;33m,\u001b[0m \u001b[0mo\u001b[0m \u001b[1;32min\u001b[0m \u001b[0mzip\u001b[0m\u001b[1;33m(\u001b[0m\u001b[0mout_labels\u001b[0m\u001b[1;33m,\u001b[0m \u001b[0mouts\u001b[0m\u001b[1;33m)\u001b[0m\u001b[1;33m:\u001b[0m\u001b[1;33m\u001b[0m\u001b[0m\n",
      "\u001b[1;32m~\\AppData\\Local\\Continuum\\anaconda3\\lib\\site-packages\\keras\\backend\\tensorflow_backend.py\u001b[0m in \u001b[0;36m__call__\u001b[1;34m(self, inputs)\u001b[0m\n\u001b[0;32m   2664\u001b[0m                 \u001b[1;32mreturn\u001b[0m \u001b[0mself\u001b[0m\u001b[1;33m.\u001b[0m\u001b[0m_legacy_call\u001b[0m\u001b[1;33m(\u001b[0m\u001b[0minputs\u001b[0m\u001b[1;33m)\u001b[0m\u001b[1;33m\u001b[0m\u001b[0m\n\u001b[0;32m   2665\u001b[0m \u001b[1;33m\u001b[0m\u001b[0m\n\u001b[1;32m-> 2666\u001b[1;33m             \u001b[1;32mreturn\u001b[0m \u001b[0mself\u001b[0m\u001b[1;33m.\u001b[0m\u001b[0m_call\u001b[0m\u001b[1;33m(\u001b[0m\u001b[0minputs\u001b[0m\u001b[1;33m)\u001b[0m\u001b[1;33m\u001b[0m\u001b[0m\n\u001b[0m\u001b[0;32m   2667\u001b[0m         \u001b[1;32melse\u001b[0m\u001b[1;33m:\u001b[0m\u001b[1;33m\u001b[0m\u001b[0m\n\u001b[0;32m   2668\u001b[0m             \u001b[1;32mif\u001b[0m \u001b[0mpy_any\u001b[0m\u001b[1;33m(\u001b[0m\u001b[0mis_tensor\u001b[0m\u001b[1;33m(\u001b[0m\u001b[0mx\u001b[0m\u001b[1;33m)\u001b[0m \u001b[1;32mfor\u001b[0m \u001b[0mx\u001b[0m \u001b[1;32min\u001b[0m \u001b[0minputs\u001b[0m\u001b[1;33m)\u001b[0m\u001b[1;33m:\u001b[0m\u001b[1;33m\u001b[0m\u001b[0m\n",
      "\u001b[1;32m~\\AppData\\Local\\Continuum\\anaconda3\\lib\\site-packages\\keras\\backend\\tensorflow_backend.py\u001b[0m in \u001b[0;36m_call\u001b[1;34m(self, inputs)\u001b[0m\n\u001b[0;32m   2634\u001b[0m                                 \u001b[0msymbol_vals\u001b[0m\u001b[1;33m,\u001b[0m\u001b[1;33m\u001b[0m\u001b[0m\n\u001b[0;32m   2635\u001b[0m                                 session)\n\u001b[1;32m-> 2636\u001b[1;33m         \u001b[0mfetched\u001b[0m \u001b[1;33m=\u001b[0m \u001b[0mself\u001b[0m\u001b[1;33m.\u001b[0m\u001b[0m_callable_fn\u001b[0m\u001b[1;33m(\u001b[0m\u001b[1;33m*\u001b[0m\u001b[0marray_vals\u001b[0m\u001b[1;33m)\u001b[0m\u001b[1;33m\u001b[0m\u001b[0m\n\u001b[0m\u001b[0;32m   2637\u001b[0m         \u001b[1;32mreturn\u001b[0m \u001b[0mfetched\u001b[0m\u001b[1;33m[\u001b[0m\u001b[1;33m:\u001b[0m\u001b[0mlen\u001b[0m\u001b[1;33m(\u001b[0m\u001b[0mself\u001b[0m\u001b[1;33m.\u001b[0m\u001b[0moutputs\u001b[0m\u001b[1;33m)\u001b[0m\u001b[1;33m]\u001b[0m\u001b[1;33m\u001b[0m\u001b[0m\n\u001b[0;32m   2638\u001b[0m \u001b[1;33m\u001b[0m\u001b[0m\n",
      "\u001b[1;32m~\\AppData\\Local\\Continuum\\anaconda3\\lib\\site-packages\\tensorflow\\python\\client\\session.py\u001b[0m in \u001b[0;36m__call__\u001b[1;34m(self, *args)\u001b[0m\n\u001b[0;32m   1449\u001b[0m         \u001b[1;32mif\u001b[0m \u001b[0mself\u001b[0m\u001b[1;33m.\u001b[0m\u001b[0m_session\u001b[0m\u001b[1;33m.\u001b[0m\u001b[0m_created_with_new_api\u001b[0m\u001b[1;33m:\u001b[0m\u001b[1;33m\u001b[0m\u001b[0m\n\u001b[0;32m   1450\u001b[0m           return tf_session.TF_SessionRunCallable(\n\u001b[1;32m-> 1451\u001b[1;33m               self._session._session, self._handle, args, status, None)\n\u001b[0m\u001b[0;32m   1452\u001b[0m         \u001b[1;32melse\u001b[0m\u001b[1;33m:\u001b[0m\u001b[1;33m\u001b[0m\u001b[0m\n\u001b[0;32m   1453\u001b[0m           return tf_session.TF_DeprecatedSessionRunCallable(\n",
      "\u001b[1;31mKeyboardInterrupt\u001b[0m: "
     ]
    }
   ],
   "source": [
    "from keras.layers import Dense, Activation, Dropout\n",
    "\n",
    "K.clear_session()\n",
    "tb_call = keras.callbacks.TensorBoard(log_dir='C:\\\\Users\\\\tkalnik\\\\PycharmProjects\\\\RIIAA_Escuela18-master\\\\logs3', histogram_freq=0, write_graph=True, write_images=True)\n",
    "\n",
    "model = Sequential()\n",
    "model.add(Dense(units=100, input_dim=X_train.shape[-1], kernel_initializer='TruncatedNormal', activation='elu'))\n",
    "model.add(Dense(units=100, input_dim=X_train.shape[-1], kernel_initializer='TruncatedNormal', activation='elu'))\n",
    "model.add(Dense(units=100, input_dim=X_train.shape[-1], kernel_initializer='TruncatedNormal', activation='elu'))\n",
    "model.add(Dense(units=100, input_dim=X_train.shape[-1], kernel_initializer='TruncatedNormal', activation='elu'))\n",
    "model.add(Dense(units=100, input_dim=X_train.shape[-1], kernel_initializer='TruncatedNormal', activation='elu'))\n",
    "model.add(Dense(units=100, input_dim=X_train.shape[-1], kernel_initializer='TruncatedNormal', activation='elu'))\n",
    "model.add(Dropout(0.2))\n",
    "model.add(Dense(1, kernel_initializer='TruncatedNormal', activation='sigmoid'))\n",
    "model.compile(loss='binary_crossentropy', optimizer=\"Adam\", metrics=['accuracy'])\n",
    "print(model.summary())\n",
    "model.fit(X_train, Y_train, epochs=170, batch_size=28, callbacks=[tb_call])"
   ]
  },
  {
   "cell_type": "code",
   "execution_count": 1,
   "metadata": {},
   "outputs": [],
   "source": [
    "from sklearn.model_selection import GridSearchCV"
   ]
  },
  {
   "cell_type": "code",
   "execution_count": null,
   "metadata": {},
   "outputs": [],
   "source": [
    "### Grid Search\n",
    "\n",
    "import numpy as np\n",
    "from sklearn.model_selection import GridSearchCV\n",
    "from keras.models import Sequential\n",
    "from keras.layers import Dense\n",
    "from keras.layers import Dropout\n",
    "from keras.wrappers.scikit_learn import KerasClassifier\n",
    "from keras.constraints import maxnorm\n",
    "\n",
    "def create_model(neurons=1):\n",
    "    # create model\n",
    "    model = Sequential()\n",
    "    model.add(Dense(units=neurons, input_dim=X_train.shape[-1], kernel_initializer='TruncatedNormal', activation='elu'))\n",
    "    model.add(Dropout(0.2))\n",
    "    model.add(Dense(1, kernel_initializer='TruncatedNormal', activation='sigmoid'))\n",
    "    # compile model\n",
    "    model.compile(loss='binary_crossentropy', optimizer=\"Adam\", metrics=['accuracy'])\n",
    "    return(model)\n",
    "\n",
    "# fix random seed for reproducibility\n",
    "seed = 7\n",
    "np.random.seed(seed)\n",
    "\n",
    "# create model\n",
    "model = KerasClassifier(build_fn=create_model, epochs=100, batch_size=10, verbose=1)\n",
    "\n",
    "# define the grid search parameters for batch size and epochs\n",
    "batch_size = [10, 20, 40, 60, 80, 100]\n",
    "epochs = [10, 25, 50, 100, 125, 150]\n",
    "batch_epoch_grid = dict(batch_size=batch_size, epochs=epochs)\n",
    "\n",
    "# define the grid search parameters for the optimizer\n",
    "optimizer = ['SGD', 'RMSprop', 'Adagrad', 'Adadelta', 'Adam', 'Adamax', 'Nadam']\n",
    "opt_grid = dict(optimizer=optimizer)\n",
    "\n",
    "# define the grid search parameters for the initialization weights \n",
    "init_mode = ['uniform', 'lecun_uniform', 'normal', 'zero', 'glorot_normal', 'glorot_uniform', 'he_normal', 'he_uniform']\n",
    "init_grid = dict(init_mode=init_mode)\n",
    "\n",
    "# define the grid search parameters for learning rate and momentum\n",
    "learn_rate = [0.001, 0.01, 0.1, 0.2, 0.3]\n",
    "momentum = [0.0, 0.2, 0.4, 0.6, 0.8, 0.9]\n",
    "learning_momentum_grid = dict(learn_rate=learn_rate, momentum=momentum)\n",
    "\n",
    "# define the grid search parameters for neuron activation\n",
    "activation = ['softmax', 'softplus', 'softsign', 'relu', 'tanh', 'sigmoid', 'hard_sigmoid', 'linear']\n",
    "activation_grid = dict(activation=activation)\n",
    "\n",
    "# define the grid search parameters\n",
    "neurons = [1, 5, 10, 15, 20, 25, 30]\n",
    "neuron_grid = dict(neurons=neurons)\n",
    "\n",
    "grid = GridSearchCV(estimator=model, param_grid=batch_epoch_grid, n_jobs=-1)\n",
    "grid_result = grid.fit(X_train, Y_train)\n",
    "\n",
    "# summarize results\n",
    "print(\"Best: %f using %s\" % (grid_result.best_score_, grid_result.best_params_))\n",
    "means = grid_result.cv_results_['mean_test_score']\n",
    "stds = grid_result.cv_results_['std_test_score']\n",
    "params = grid_result.cv_results_['params']\n",
    "for mean, stdev, param in zip(means, stds, params):\n",
    "    print(\"%f (%f) with: %r\" % (mean, stdev, param))"
   ]
  },
  {
   "cell_type": "code",
   "execution_count": null,
   "metadata": {},
   "outputs": [],
   "source": [
    "### Random Search\n",
    "print(__doc__)\n",
    "\n",
    "import numpy as np\n",
    "from time import time\n",
    "from scipy.stats import randint as sp_randint\n",
    "from sklearn.model_selection import RandomizedSearchCV\n",
    "from sklearn.model_selection import GridSearchCV\n",
    "from keras.models import Sequential\n",
    "from keras.layers import Dense\n",
    "from keras.layers import Dropout\n",
    "from keras.wrappers.scikit_learn import KerasClassifier\n",
    "from keras.constraints import maxnorm\n",
    "\n",
    "def create_model(neurons=1):\n",
    "    # create model\n",
    "    model = Sequential()\n",
    "    model.add(Dense(units=neurons, input_dim=X_train.shape[-1], kernel_initializer='TruncatedNormal', activation='elu'))\n",
    "    model.add(Dropout(0.2))\n",
    "    model.add(Dense(1, kernel_initializer='TruncatedNormal', activation='sigmoid'))\n",
    "    # compile model\n",
    "    model.compile(loss='binary_crossentropy', optimizer=\"Adam\", metrics=['accuracy'])\n",
    "    return(model)\n",
    "\n",
    "# fix random seed for reproducibility\n",
    "seed = 7\n",
    "np.random.seed(seed)\n",
    "\n",
    "# create model\n",
    "model = KerasClassifier(build_fn=create_model, epochs=100, batch_size=10, verbose=1)\n",
    "\n",
    "# define the grid search parameters for batch size and epochs\n",
    "batch_size = [10, 20, 40, 60, 80, 100]\n",
    "epochs = [10, 25, 50, 100, 125, 150]\n",
    "batch_epoch_grid = dict(batch_size=batch_size, epochs=epochs)\n",
    "\n",
    "# define the grid search parameters for the optimizer\n",
    "optimizer = ['SGD', 'RMSprop', 'Adagrad', 'Adadelta', 'Adam', 'Adamax', 'Nadam']\n",
    "opt_grid = dict(optimizer=optimizer)\n",
    "\n",
    "# define the grid search parameters for the initialization weights \n",
    "init_mode = ['uniform', 'lecun_uniform', 'normal', 'zero', 'glorot_normal', 'glorot_uniform', 'he_normal', 'he_uniform']\n",
    "init_grid = dict(init_mode=init_mode)\n",
    "\n",
    "# define the grid search parameters for learning rate and momentum\n",
    "learn_rate = [0.001, 0.01, 0.1, 0.2, 0.3]\n",
    "momentum = [0.0, 0.2, 0.4, 0.6, 0.8, 0.9]\n",
    "learning_momentum_grid = dict(learn_rate=learn_rate, momentum=momentum)\n",
    "\n",
    "# define the grid search parameters for neuron activation\n",
    "activation = ['softmax', 'softplus', 'softsign', 'relu', 'tanh', 'sigmoid', 'hard_sigmoid', 'linear']\n",
    "activation_grid = dict(activation=activation)\n",
    "\n",
    "# define the grid search parameters\n",
    "neurons = [1, 5, 10, 15, 20, 25, 30]\n",
    "neuron_grid = dict(neurons=neurons)\n",
    "\n",
    "# run randomized search\n",
    "n_iter_search = 20\n",
    "random_search = RandomizedSearchCV(model, param_distributions=batch_epoch_grid,\n",
    "                                   n_iter=n_iter_search)\n",
    "\n",
    "start = time()\n",
    "random_search.fit(X_train, Y_train)\n",
    "print(\"RandomizedSearchCV took %.2f seconds for %d candidates\"\n",
    "      \" parameter settings.\" % ((time() - start), n_iter_search))\n",
    "report(random_search.cv_results_)"
   ]
  },
  {
   "cell_type": "code",
   "execution_count": 56,
   "metadata": {
    "ExecuteTime": {
     "end_time": "2018-08-24T08:04:10.725399Z",
     "start_time": "2018-08-24T08:04:04.945904Z"
    }
   },
   "outputs": [
    {
     "name": "stdout",
     "output_type": "stream",
     "text": [
      "--- Resultados --\n",
      "- AUC train: 0.807 \n",
      "- AUC test : 0.806 \n",
      "- AMS train: 2.317 sigma\n",
      "- AMS test : 3.021 sigma\n"
     ]
    },
    {
     "data": {
      "text/plain": [
       "(2.3169095035742773, 3.021130874864326)"
      ]
     },
     "execution_count": 56,
     "metadata": {},
     "output_type": "execute_result"
    }
   ],
   "source": [
    "pcut=0.5\n",
    "Y_train_pred = model.predict(X_train).flatten() > pcut\n",
    "Y_test_pred = model.predict(X_test).flatten() > pcut\n",
    "Y_train_prob= model.predict_proba(X_train).flatten()\n",
    "Y_test_prob = model.predict_proba(X_test).flatten()\n",
    "eval_model(Y_train,Y_train_pred,w_train,Y_test,Y_test_pred,w_test)"
   ]
  },
  {
   "cell_type": "code",
   "execution_count": null,
   "metadata": {},
   "outputs": [],
   "source": []
  }
 ],
 "metadata": {
  "kernelspec": {
   "display_name": "Python 3",
   "language": "python",
   "name": "python3"
  },
  "language_info": {
   "codemirror_mode": {
    "name": "ipython",
    "version": 3
   },
   "file_extension": ".py",
   "mimetype": "text/x-python",
   "name": "python",
   "nbconvert_exporter": "python",
   "pygments_lexer": "ipython3",
   "version": "3.6.5"
  },
  "toc": {
   "base_numbering": 1,
   "nav_menu": {},
   "number_sections": false,
   "sideBar": true,
   "skip_h1_title": false,
   "title_cell": "Table of Contents",
   "title_sidebar": "Contents",
   "toc_cell": true,
   "toc_position": {
    "height": "calc(100% - 180px)",
    "left": "10px",
    "top": "150px",
    "width": "209px"
   },
   "toc_section_display": true,
   "toc_window_display": true
  }
 },
 "nbformat": 4,
 "nbformat_minor": 1
}
