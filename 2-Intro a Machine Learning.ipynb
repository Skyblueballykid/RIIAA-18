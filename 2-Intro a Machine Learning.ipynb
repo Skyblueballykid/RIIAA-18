{
 "cells": [
  {
   "cell_type": "markdown",
   "metadata": {
    "toc": true
   },
   "source": [
    "<h1>Table of Contents<span class=\"tocSkip\"></span></h1>\n",
    "<div class=\"toc\"><ul class=\"toc-item\"><li><span><a href=\"#Cargamos-librerias\" data-toc-modified-id=\"Cargamos-librerias-1\">Cargamos librerias</a></span><ul class=\"toc-item\"><li><span><a href=\"#metricas-de-evaluacion-(sigmas)-+-funciones-de-utilidad\" data-toc-modified-id=\"metricas-de-evaluacion-(sigmas)-+-funciones-de-utilidad-1.1\">metricas de evaluacion (sigmas) + funciones de utilidad</a></span></li><li><span><a href=\"#Datos-de-entrenamiento!\" data-toc-modified-id=\"Datos-de-entrenamiento!-1.2\">Datos de entrenamiento!</a></span></li><li><span><a href=\"#usamos-🐼\" data-toc-modified-id=\"usamos-🐼-1.3\">usamos 🐼</a></span></li><li><span><a href=\"#preprocesamiento-para-X-y-Y\" data-toc-modified-id=\"preprocesamiento-para-X-y-Y-1.4\">preprocesamiento para X y Y</a></span></li></ul></li><li><span><a href=\"#ML-con-Scikit-learn\" data-toc-modified-id=\"ML-con-Scikit-learn-2\">ML con Scikit-learn</a></span><ul class=\"toc-item\"><li><ul class=\"toc-item\"><li><span><a href=\"#Regression-Logistica\" data-toc-modified-id=\"Regression-Logistica-2.0.1\">Regression Logistica</a></span><ul class=\"toc-item\"><li><span><a href=\"#Coeficientes\" data-toc-modified-id=\"Coeficientes-2.0.1.1\">Coeficientes</a></span></li></ul></li></ul></li><li><span><a href=\"#predecir-probabilidades\" data-toc-modified-id=\"predecir-probabilidades-2.1\">predecir probabilidades</a></span></li><li><span><a href=\"#SGDclassifier-(Regression-Logistica)\" data-toc-modified-id=\"SGDclassifier-(Regression-Logistica)-2.2\">SGDclassifier (Regression Logistica)</a></span><ul class=\"toc-item\"><li><span><a href=\"#Actividad:-Evalua!\" data-toc-modified-id=\"Actividad:-Evalua!-2.2.1\">Actividad: Evalua!</a></span></li></ul></li><li><span><a href=\"#Regularizacion\" data-toc-modified-id=\"Regularizacion-2.3\">Regularizacion</a></span></li></ul></li><li><span><a href=\"#Actividad:\" data-toc-modified-id=\"Actividad:-3\">Actividad:</a></span><ul class=\"toc-item\"><li><span><a href=\"#Metodos-de-ensembles\" data-toc-modified-id=\"Metodos-de-ensembles-3.1\">Metodos de ensembles</a></span></li><li><span><a href=\"#predecir-probabilidades\" data-toc-modified-id=\"predecir-probabilidades-3.2\">predecir probabilidades</a></span></li><li><span><a href=\"#Modelos-de-arboles:-feature-importance\" data-toc-modified-id=\"Modelos-de-arboles:-feature-importance-3.3\">Modelos de arboles: feature importance</a></span></li><li><span><a href=\"#Mejorando-la-regla-de-decision\" data-toc-modified-id=\"Mejorando-la-regla-de-decision-3.4\">Mejorando la regla de decision</a></span><ul class=\"toc-item\"><li><span><a href=\"#en-vez-de-0.5-usaremos-un-percentil\" data-toc-modified-id=\"en-vez-de-0.5-usaremos-un-percentil-3.4.1\">en vez de 0.5 usaremos un percentil</a></span></li></ul></li><li><span><a href=\"#Probabilidad-de-corte\" data-toc-modified-id=\"Probabilidad-de-corte-3.5\">Probabilidad de corte</a></span></li></ul></li><li><span><a href=\"#Actividad:\" data-toc-modified-id=\"Actividad:-4\">Actividad:</a></span></li></ul></div>"
   ]
  },
  {
   "cell_type": "markdown",
   "metadata": {},
   "source": [
    "![](extra/atlas.png)\n",
    "# Cargamos librerias"
   ]
  },
  {
   "cell_type": "code",
   "execution_count": null,
   "metadata": {
    "ExecuteTime": {
     "end_time": "2018-08-24T05:47:08.054558Z",
     "start_time": "2018-08-24T05:47:07.784533Z"
    }
   },
   "outputs": [],
   "source": [
    "%matplotlib inline\n",
    "%config InlineBackend.figure_format='retina'\n",
    "import matplotlib\n",
    "import matplotlib.pyplot as plt"
   ]
  },
  {
   "cell_type": "code",
   "execution_count": null,
   "metadata": {
    "ExecuteTime": {
     "end_time": "2018-08-24T05:47:27.430096Z",
     "start_time": "2018-08-24T05:47:27.425067Z"
    }
   },
   "outputs": [],
   "source": [
    "import numpy as np\n",
    "import scipy as sc\n",
    "import pandas as pd\n",
    "import sklearn\n",
    "import matplotlib.pyplot as plt\n",
    "import seaborn as sns\n",
    "import os\n",
    "from IPython.display import display\n",
    "import sys"
   ]
  },
  {
   "cell_type": "markdown",
   "metadata": {},
   "source": [
    "## metricas de evaluacion (sigmas) + funciones de utilidad\n",
    "\n",
    "![http://i.imgur.com/Hflz2lG.jpg](http://i.imgur.com/Hflz2lG.jpg)"
   ]
  },
  {
   "cell_type": "code",
   "execution_count": null,
   "metadata": {
    "ExecuteTime": {
     "end_time": "2018-08-24T06:43:58.390985Z",
     "start_time": "2018-08-24T06:43:58.377242Z"
    }
   },
   "outputs": [],
   "source": [
    "from sklearn.metrics import roc_curve, auc\n",
    "\n",
    "    \n",
    "def AMSScore(s,b): \n",
    "    return np.sqrt (2.*( (s + b + 10.)*np.log(1.+s/(b+10.))-s))\n",
    "\n",
    "def eval_model(Y_true_train,Y_pred_train,w_train,Y_true_test,Y_pred_test,w_test):\n",
    "    ratio =  float(len(X_train)) /float(len(X_test))\n",
    "    TruePositive_train = w_train*(Y_true_train==1.0)*(1.0/ratio)\n",
    "    TrueNegative_train = w_train*(Y_true_train==0.0)*(1.0/ratio)\n",
    "    TruePositive_valid = w_test*(Y_true_test==1.0)*(1.0/(1-ratio))\n",
    "    TrueNegative_valid = w_test*(Y_true_test==0.0)*(1.0/(1-ratio))\n",
    "    s_train = sum ( TruePositive_train*(Y_pred_train==1.0) )\n",
    "    b_train = sum ( TrueNegative_train*(Y_pred_train==1.0) )\n",
    "    s_test = sum ( TruePositive_valid*(Y_pred_test==1.0) )\n",
    "    b_test = sum ( TrueNegative_valid*(Y_pred_test==1.0) )\n",
    "    score_train = AMSScore(s_train,b_train)\n",
    "    score_test = AMSScore(s_test,b_test)\n",
    "    print('--- Resultados --')\n",
    "    print('- AUC train: {:.3f} '.format(sk.metrics.roc_auc_score(Y_train,Y_train_pred)))\n",
    "    print('- AUC test : {:.3f} '.format(sk.metrics.roc_auc_score(Y_test,Y_test_pred)))\n",
    "    print('- AMS train: {:.3f} sigma'.format(score_train))\n",
    "    print('- AMS test : {:.3f} sigma'.format(score_test))\n",
    "    return score_train, score_test\n",
    "\n",
    "def plot_roc(clf,Y_test,Y_test_prob):\n",
    "    fpr, tpr, thresholds = roc_curve(Y_test, Y_test_prob)\n",
    "    roc_auc = auc(fpr, tpr)\n",
    "    plt.plot(fpr, tpr, lw=1, alpha=0.3, label=str(clf.__class__.__name__))\n",
    "    plt.plot(np.linspace(0,1,100),np.linspace(0,1,100), lw=2, alpha=0.3, label='Suerte')\n",
    "    plt.legend(loc='lower right')\n",
    "    plt.xlim([0,1])\n",
    "    plt.ylim([0,1])\n",
    "    plt.tight_layout()\n",
    "    return"
   ]
  },
  {
   "cell_type": "markdown",
   "metadata": {},
   "source": [
    "## Datos de entrenamiento!\n",
    "\n",
    "Quieres saber mas? Visita [http://higgsml.lal.in2p3.fr/documentation](http://higgsml.lal.in2p3.fr/documentation)"
   ]
  },
  {
   "cell_type": "code",
   "execution_count": null,
   "metadata": {},
   "outputs": [],
   "source": [
    "!wget "
   ]
  },
  {
   "cell_type": "markdown",
   "metadata": {
    "ExecuteTime": {
     "end_time": "2018-08-24T09:53:24.740507Z",
     "start_time": "2018-08-24T09:53:24.664249Z"
    }
   },
   "source": [
    "## usamos 🐼\n"
   ]
  },
  {
   "cell_type": "code",
   "execution_count": null,
   "metadata": {
    "ExecuteTime": {
     "end_time": "2018-08-24T07:22:44.579064Z",
     "start_time": "2018-08-24T07:22:43.585966Z"
    },
    "scrolled": true
   },
   "outputs": [],
   "source": [
    "df=pd.read_csv('datos/training.csv')\n",
    "print(df.shape)\n",
    "df.head(1)"
   ]
  },
  {
   "cell_type": "markdown",
   "metadata": {},
   "source": [
    "## preprocesamiento para X y Y"
   ]
  },
  {
   "cell_type": "code",
   "execution_count": null,
   "metadata": {
    "ExecuteTime": {
     "end_time": "2018-08-24T06:44:06.857336Z",
     "start_time": "2018-08-24T06:44:06.683909Z"
    }
   },
   "outputs": [],
   "source": [
    "Y = df['Label'].replace(to_replace=['s','b'],value=[1,0]).values\n",
    "weights = df['Weight'].values\n",
    "X = df.drop(['EventId','Label','Weight'],axis=1).values"
   ]
  },
  {
   "cell_type": "code",
   "execution_count": null,
   "metadata": {
    "ExecuteTime": {
     "end_time": "2018-08-24T06:44:07.161477Z",
     "start_time": "2018-08-24T06:44:07.009433Z"
    }
   },
   "outputs": [],
   "source": [
    "from sklearn.model_selection import train_test_split\n",
    "X_train,X_test,Y_train,Y_test,w_train,w_test = train_test_split(X,Y,weights,train_size=0.3)\n",
    "print(X_train.shape,Y_train.shape,w_train.shape)\n",
    "print(X_test.shape,Y_test.shape,w_test.shape)"
   ]
  },
  {
   "cell_type": "markdown",
   "metadata": {},
   "source": [
    "# ML con Scikit-learn\n",
    "\n",
    "![[](http://scikit-learn.org/stable/)](extra/sklearn_logo.png)"
   ]
  },
  {
   "cell_type": "markdown",
   "metadata": {},
   "source": [
    "### Regression Logistica\n",
    "\n",
    "** Modelo :** $h_{\\theta}(x) = g(\\theta^{T}x) = g(\\sum \\theta_i x_i +b)$ con $g(z)=\\frac{1}{1+e^{-z}}$\n",
    "\n",
    "** optimizador, metrica?**"
   ]
  },
  {
   "cell_type": "code",
   "execution_count": null,
   "metadata": {
    "ExecuteTime": {
     "end_time": "2018-08-24T06:44:18.345181Z",
     "start_time": "2018-08-24T06:44:09.940916Z"
    }
   },
   "outputs": [],
   "source": [
    "from sklearn.linear_model import LogisticRegression\n",
    "clf = LogisticRegression(verbose=1)\n",
    "clf.fit(X_train,Y_train) "
   ]
  },
  {
   "cell_type": "markdown",
   "metadata": {},
   "source": [
    "#### Coeficientes\n",
    "\n",
    "$$\\sum \\theta_i x_i + b $$"
   ]
  },
  {
   "cell_type": "code",
   "execution_count": null,
   "metadata": {
    "ExecuteTime": {
     "end_time": "2018-08-24T06:44:21.489721Z",
     "start_time": "2018-08-24T06:44:21.282147Z"
    }
   },
   "outputs": [],
   "source": [
    "print('a = {}'.format(clf.coef_))\n",
    "print('b = {}'.format(clf.intercept_))\n",
    "sns.distplot(clf.coef_,kde=False)\n",
    "plt.show()"
   ]
  },
  {
   "cell_type": "markdown",
   "metadata": {},
   "source": [
    "## predecir probabilidades"
   ]
  },
  {
   "cell_type": "code",
   "execution_count": null,
   "metadata": {
    "ExecuteTime": {
     "end_time": "2018-08-24T06:44:24.304776Z",
     "start_time": "2018-08-24T06:44:24.162796Z"
    }
   },
   "outputs": [],
   "source": [
    "Y_train_pred = clf.predict(X_train)\n",
    "Y_test_pred = clf.predict(X_test)\n",
    "Y_train_prob=clf.predict_proba(X_train)[:,1]\n",
    "Y_test_prob =clf.predict_proba(X_test)[:,1]\n",
    "print('AUC:')\n",
    "print('train: {:2.4f}'.format(sk.metrics.roc_auc_score(Y_train,Y_train_pred)))\n",
    "print('test:  {:2.4f}'.format(sk.metrics.roc_auc_score(Y_test,Y_test_pred)))\n",
    "eval_model(Y_train,Y_train_pred,w_train,Y_test,Y_test_pred,w_test)"
   ]
  },
  {
   "cell_type": "code",
   "execution_count": null,
   "metadata": {
    "ExecuteTime": {
     "end_time": "2018-08-24T06:53:39.611340Z",
     "start_time": "2018-08-24T06:53:39.472041Z"
    }
   },
   "outputs": [],
   "source": [
    "x = np.linspace(-30,30,100)\n",
    "plt.plot(x,1.0/(1+np.exp(-x)))\n",
    "plt.show()"
   ]
  },
  {
   "cell_type": "code",
   "execution_count": null,
   "metadata": {
    "ExecuteTime": {
     "end_time": "2018-08-24T06:44:30.785917Z",
     "start_time": "2018-08-24T06:44:30.570610Z"
    }
   },
   "outputs": [],
   "source": [
    "from sklearn.metrics import roc_curve, auc\n",
    "\n",
    "fpr, tpr, thresholds = roc_curve(Y_test, Y_test_prob)\n",
    "roc_auc = auc(fpr, tpr)\n",
    "plt.plot(fpr, tpr, lw=1, alpha=0.3, label=str(clf.__class__.__name__))\n",
    "plt.plot(np.linspace(0,1,100),np.linspace(0,1,100), lw=2, alpha=0.3, label='Suerte')\n",
    "plt.legend(loc='lower right')\n",
    "plt.xlim([0,1])\n",
    "plt.ylim([0,1])\n",
    "plt.xlabel('Falsos Positivos')\n",
    "plt.ylabel('Falsos Negativos')\n",
    "plt.tight_layout()\n",
    "plt.show()"
   ]
  },
  {
   "cell_type": "markdown",
   "metadata": {},
   "source": [
    "## SGDclassifier (Regression Logistica)\n",
    "\n",
    "** Modelo :** $h_{\\theta}(x) = g(\\theta^{T}x)$ con $g(z)=\\frac{1}{1+e^{-z}}$\n",
    "\n",
    "** Costo :** $$J(\\theta)=-\\frac{1}{m}\\sum_{i=1}^{m}y^{i}\\log(h_\\theta(x^{i}))+(1-y^{i})\\log(1-h_\\theta(x^{i}))$$\n",
    "** Optimizador:** Descenso de gradient\n",
    "\n",
    "\n",
    "Ojo, la derivada del costo es:\n",
    "$$ \\frac{\\partial}{\\partial\\theta_{j}}J(\\theta) =\\sum_{i=1}^{m}(h_\\theta(x^{i})-y^i)x_j^i$$"
   ]
  },
  {
   "cell_type": "code",
   "execution_count": null,
   "metadata": {
    "ExecuteTime": {
     "end_time": "2018-08-24T06:47:47.492317Z",
     "start_time": "2018-08-24T06:47:36.340019Z"
    }
   },
   "outputs": [],
   "source": [
    "from sklearn.linear_model import SGDClassifier\n",
    "\n",
    "clf = SGDClassifier(loss='log',verbose=1,max_iter=500)\n",
    "clf.fit(X_train,Y_train)"
   ]
  },
  {
   "cell_type": "markdown",
   "metadata": {},
   "source": [
    "### Actividad: Evalua!"
   ]
  },
  {
   "cell_type": "code",
   "execution_count": null,
   "metadata": {},
   "outputs": [],
   "source": []
  },
  {
   "cell_type": "markdown",
   "metadata": {},
   "source": [
    "## Regularizacion\n",
    "\n",
    "\n",
    "\n",
    "\n",
    "** Costo :** $$J(\\theta)=-\\frac{1}{m}\\sum_{i=1}^{m}y^{i}\\log(h_\\theta(x^{i}))+(1-y^{i})\\log(1-h_\\theta(x^{i}))$$\n",
    "\n",
    "** $L2$**: $$ +  \\alpha \\sum \\theta_i^2$$\n",
    "** $L1$**: $$ +  \\frac{\\lambda}{1}\\sum |\\theta_i|$$\n"
   ]
  },
  {
   "cell_type": "code",
   "execution_count": null,
   "metadata": {
    "ExecuteTime": {
     "end_time": "2018-08-24T06:58:34.065445Z",
     "start_time": "2018-08-24T06:58:19.416522Z"
    }
   },
   "outputs": [],
   "source": [
    "from sklearn.linear_model import SGDClassifier\n",
    "\n",
    "clf = SGDClassifier(loss='log',alpha=0.5,l1_ratio=0.2,verbose=1,max_iter=500)\n",
    "clf.fit(X_train,Y_train)"
   ]
  },
  {
   "cell_type": "markdown",
   "metadata": {
    "ExecuteTime": {
     "end_time": "2018-08-24T07:14:57.123098Z",
     "start_time": "2018-08-24T07:14:57.115551Z"
    }
   },
   "source": [
    "# Actividad: \n",
    "\n",
    "* Entrena un modelo para investigar el efecto de solo suar regularizacion L2 (apaga L1)\n",
    "* Entrena un modelo para investigar el efecto de solo suar regularizacion L1 (apaga L2)\n",
    "* Checa histogramas de tus pesos (coef)"
   ]
  },
  {
   "cell_type": "code",
   "execution_count": null,
   "metadata": {},
   "outputs": [],
   "source": []
  },
  {
   "cell_type": "markdown",
   "metadata": {},
   "source": [
    "## Metodos de ensembles"
   ]
  },
  {
   "cell_type": "code",
   "execution_count": null,
   "metadata": {
    "ExecuteTime": {
     "end_time": "2018-08-24T07:15:46.326957Z",
     "start_time": "2018-08-24T07:15:43.146804Z"
    }
   },
   "outputs": [],
   "source": [
    "from sklearn.ensemble import RandomForestClassifier\n",
    "clf = RandomForestClassifier(verbose=1)\n",
    "clf.fit(X_train,Y_train) "
   ]
  },
  {
   "cell_type": "markdown",
   "metadata": {},
   "source": [
    "## predecir probabilidades"
   ]
  },
  {
   "cell_type": "code",
   "execution_count": null,
   "metadata": {
    "ExecuteTime": {
     "end_time": "2018-08-24T07:15:59.346570Z",
     "start_time": "2018-08-24T07:15:58.114168Z"
    }
   },
   "outputs": [],
   "source": [
    "Y_train_pred = clf.predict(X_train)\n",
    "Y_test_pred = clf.predict(X_test)\n",
    "Y_train_prob=clf.predict_proba(X_train)[:,1]\n",
    "Y_test_prob =clf.predict_proba(X_test)[:,1]\n",
    "eval_model(Y_train,Y_train_pred,w_train,Y_test,Y_test_pred,w_test)"
   ]
  },
  {
   "cell_type": "code",
   "execution_count": null,
   "metadata": {
    "ExecuteTime": {
     "end_time": "2018-08-24T07:16:02.411804Z",
     "start_time": "2018-08-24T07:16:02.191716Z"
    }
   },
   "outputs": [],
   "source": [
    "plot_roc(clf,Y_test,Y_test_prob)"
   ]
  },
  {
   "cell_type": "markdown",
   "metadata": {},
   "source": [
    "## Modelos de arboles: feature importance"
   ]
  },
  {
   "cell_type": "code",
   "execution_count": null,
   "metadata": {
    "ExecuteTime": {
     "end_time": "2018-08-24T07:19:33.859442Z",
     "start_time": "2018-08-24T07:19:33.621863Z"
    }
   },
   "outputs": [],
   "source": [
    "importances = clf.feature_importances_\n",
    "\n",
    "indices = np.argsort(importances)[::-1]\n",
    "\n",
    "# Print the feature ranking\n",
    "print(\"Feature ranking:\")\n",
    "\n",
    "for f in range(X.shape[1]):\n",
    "    print('{:d}. X_{:d} ({:2.4f})'.format(f + 1, indices[f], importances[indices[f]]))\n",
    "\n",
    "# Plot the feature importances of the forest\n",
    "plt.figure()\n",
    "plt.title(\"Feature importances\")\n",
    "plt.bar(range(X.shape[1]), importances[indices], align=\"center\")\n",
    "plt.xticks(range(X.shape[1]), indices)\n",
    "plt.xlim([-1, X.shape[1]])\n",
    "plt.show()"
   ]
  },
  {
   "cell_type": "markdown",
   "metadata": {},
   "source": [
    "## Mejorando la regla de decision\n",
    "### en vez de 0.5 usaremos un percentil"
   ]
  },
  {
   "cell_type": "markdown",
   "metadata": {},
   "source": [
    "## Probabilidad de corte"
   ]
  },
  {
   "cell_type": "code",
   "execution_count": null,
   "metadata": {
    "ExecuteTime": {
     "end_time": "2018-08-24T07:21:07.094285Z",
     "start_time": "2018-08-24T07:21:06.904855Z"
    }
   },
   "outputs": [],
   "source": [
    "sns.distplot(Y_train_prob)\n",
    "plt.show()\n",
    "pcut = np.percentile(Y_train_prob,80)\n",
    "pcut"
   ]
  },
  {
   "cell_type": "code",
   "execution_count": null,
   "metadata": {
    "ExecuteTime": {
     "end_time": "2018-08-24T07:21:10.133900Z",
     "start_time": "2018-08-24T07:21:10.039965Z"
    }
   },
   "outputs": [],
   "source": [
    "Y_train_pred = Y_train_prob > pcut \n",
    "Y_test_pred = Y_test_prob > pcut\n",
    "eval_model(Y_train,Y_train_pred,w_train,Y_test,Y_test_pred,w_test)"
   ]
  },
  {
   "cell_type": "markdown",
   "metadata": {},
   "source": [
    "# Actividad:\n",
    "\n",
    "* Escoge algun algoritmo que no hayamos visto.\n",
    "* Trata de entender la idea central en 5 minutos.\n",
    "* Identifica los componentes (Modelo, funcion objectivo, optimizador)\n",
    "* Entrenar un algoritmo.\n",
    "* Optimizar los hiperparametros."
   ]
  },
  {
   "cell_type": "code",
   "execution_count": null,
   "metadata": {},
   "outputs": [],
   "source": []
  }
 ],
 "metadata": {
  "kernelspec": {
   "display_name": "Python [conda env:anaconda3]",
   "language": "python",
   "name": "conda-env-anaconda3-py"
  },
  "language_info": {
   "codemirror_mode": {
    "name": "ipython",
    "version": 3
   },
   "file_extension": ".py",
   "mimetype": "text/x-python",
   "name": "python",
   "nbconvert_exporter": "python",
   "pygments_lexer": "ipython3",
   "version": "3.6.5"
  },
  "toc": {
   "base_numbering": 1,
   "nav_menu": {},
   "number_sections": false,
   "sideBar": true,
   "skip_h1_title": false,
   "title_cell": "Table of Contents",
   "title_sidebar": "Contents",
   "toc_cell": true,
   "toc_position": {
    "height": "calc(100% - 180px)",
    "left": "10px",
    "top": "150px",
    "width": "209px"
   },
   "toc_section_display": true,
   "toc_window_display": true
  }
 },
 "nbformat": 4,
 "nbformat_minor": 1
}
