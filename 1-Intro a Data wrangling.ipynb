{
 "cells": [
  {
   "cell_type": "markdown",
   "metadata": {
    "toc": true
   },
   "source": [
    "<h1>Table of Contents<span class=\"tocSkip\"></span></h1>\n",
    "<div class=\"toc\"><ul class=\"toc-item\"><li><span><a href=\"#Cargamos-librerias\" data-toc-modified-id=\"Cargamos-librerias-1\">Cargamos librerias</a></span><ul class=\"toc-item\"><li><span><a href=\"#EDA:-Exploratory-data-analysis\" data-toc-modified-id=\"EDA:-Exploratory-data-analysis-1.1\">EDA: Exploratory data analysis</a></span></li></ul></li><li><span><a href=\"#especies-unicas\" data-toc-modified-id=\"especies-unicas-2\">especies unicas</a></span><ul class=\"toc-item\"><li><span><a href=\"#remplazar-valores\" data-toc-modified-id=\"remplazar-valores-2.1\">remplazar valores</a></span></li><li><span><a href=\"#visualizacion-de-datos\" data-toc-modified-id=\"visualizacion-de-datos-2.2\">visualizacion de datos</a></span></li></ul></li><li><span><a href=\"#Actividad:\" data-toc-modified-id=\"Actividad:-3\">Actividad:</a></span></li></ul></div>"
   ]
  },
  {
   "cell_type": "markdown",
   "metadata": {},
   "source": [
    "# Cargamos librerias"
   ]
  },
  {
   "cell_type": "code",
   "execution_count": null,
   "metadata": {
    "ExecuteTime": {
     "end_time": "2018-08-24T13:22:01.895366Z",
     "start_time": "2018-08-24T13:22:01.490400Z"
    }
   },
   "outputs": [],
   "source": [
    "%matplotlib inline\n",
    "%config InlineBackend.figure_format='retina'\n",
    "import matplotlib\n",
    "import matplotlib.pyplot as plt"
   ]
  },
  {
   "cell_type": "code",
   "execution_count": null,
   "metadata": {
    "ExecuteTime": {
     "end_time": "2018-08-24T13:22:02.646382Z",
     "start_time": "2018-08-24T13:22:01.896947Z"
    }
   },
   "outputs": [],
   "source": [
    "import numpy as np\n",
    "import scipy as sc\n",
    "import pandas as pd\n",
    "import sklearn\n",
    "import matplotlib.pyplot as plt\n",
    "import seaborn as sns\n",
    "import os\n",
    "from IPython.display import display\n",
    "import sys"
   ]
  },
  {
   "cell_type": "markdown",
   "metadata": {},
   "source": [
    "## EDA: Exploratory data analysis"
   ]
  },
  {
   "cell_type": "code",
   "execution_count": null,
   "metadata": {},
   "outputs": [],
   "source": [
    "!wget"
   ]
  },
  {
   "cell_type": "code",
   "execution_count": null,
   "metadata": {
    "ExecuteTime": {
     "end_time": "2018-08-24T13:22:08.567985Z",
     "start_time": "2018-08-24T13:22:08.524457Z"
    },
    "scrolled": true
   },
   "outputs": [],
   "source": [
    "df=pd.read_csv('datos/iris.csv')\n",
    "print(df.shape)\n",
    "df.head(1)"
   ]
  },
  {
   "cell_type": "markdown",
   "metadata": {},
   "source": [
    "# especies unicas"
   ]
  },
  {
   "cell_type": "code",
   "execution_count": null,
   "metadata": {
    "ExecuteTime": {
     "end_time": "2018-08-24T13:24:11.358636Z",
     "start_time": "2018-08-24T13:24:11.345201Z"
    }
   },
   "outputs": [],
   "source": [
    "df['species'].unique()"
   ]
  },
  {
   "cell_type": "markdown",
   "metadata": {},
   "source": [
    "## remplazar valores"
   ]
  },
  {
   "cell_type": "code",
   "execution_count": null,
   "metadata": {
    "ExecuteTime": {
     "end_time": "2018-08-24T13:24:53.804261Z",
     "start_time": "2018-08-24T13:24:53.766266Z"
    }
   },
   "outputs": [],
   "source": [
    "mapping = {'setosa': 0, 'versicolor': 1,'virginica':2}\n",
    "df = df.replace({'species': mapping})\n",
    "df"
   ]
  },
  {
   "cell_type": "markdown",
   "metadata": {},
   "source": [
    "## visualizacion de datos"
   ]
  },
  {
   "cell_type": "code",
   "execution_count": null,
   "metadata": {},
   "outputs": [],
   "source": []
  },
  {
   "cell_type": "markdown",
   "metadata": {},
   "source": [
    "# Actividad:\n",
    "\n",
    "* Lodear los datos del boson de higgs\n",
    "* Limpiar los datos\n",
    "* Explorar los datos, hay patrones \n",
    "* convertirlos en forma \"X\" y \"Y\""
   ]
  },
  {
   "cell_type": "code",
   "execution_count": null,
   "metadata": {},
   "outputs": [],
   "source": []
  }
 ],
 "metadata": {
  "kernelspec": {
   "display_name": "Python [conda env:anaconda3]",
   "language": "python",
   "name": "conda-env-anaconda3-py"
  },
  "language_info": {
   "codemirror_mode": {
    "name": "ipython",
    "version": 3
   },
   "file_extension": ".py",
   "mimetype": "text/x-python",
   "name": "python",
   "nbconvert_exporter": "python",
   "pygments_lexer": "ipython3",
   "version": "3.6.5"
  },
  "toc": {
   "base_numbering": 1,
   "nav_menu": {},
   "number_sections": false,
   "sideBar": true,
   "skip_h1_title": false,
   "title_cell": "Table of Contents",
   "title_sidebar": "Contents",
   "toc_cell": true,
   "toc_position": {
    "height": "calc(100% - 180px)",
    "left": "10px",
    "top": "150px",
    "width": "209px"
   },
   "toc_section_display": true,
   "toc_window_display": true
  }
 },
 "nbformat": 4,
 "nbformat_minor": 1
}
